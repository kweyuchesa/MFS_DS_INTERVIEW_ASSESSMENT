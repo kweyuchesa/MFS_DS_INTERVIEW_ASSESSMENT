{
 "cells": [
  {
   "cell_type": "code",
   "execution_count": 8,
   "metadata": {},
   "outputs": [],
   "source": [
    "## Import the package\n",
    "import numpy as np\n",
    "import pandas as pd\n",
    "import pandas_profiling\n",
    "import seaborn as sns "
   ]
  },
  {
   "cell_type": "code",
   "execution_count": 9,
   "metadata": {},
   "outputs": [
    {
     "data": {
      "text/html": [
       "<div>\n",
       "<style scoped>\n",
       "    .dataframe tbody tr th:only-of-type {\n",
       "        vertical-align: middle;\n",
       "    }\n",
       "\n",
       "    .dataframe tbody tr th {\n",
       "        vertical-align: top;\n",
       "    }\n",
       "\n",
       "    .dataframe thead th {\n",
       "        text-align: right;\n",
       "    }\n",
       "</style>\n",
       "<table border=\"1\" class=\"dataframe\">\n",
       "  <thead>\n",
       "    <tr style=\"text-align: right;\">\n",
       "      <th></th>\n",
       "      <th>Date</th>\n",
       "      <th>From</th>\n",
       "      <th>To</th>\n",
       "      <th>F1</th>\n",
       "      <th>F2</th>\n",
       "      <th>F3</th>\n",
       "      <th>Output1</th>\n",
       "      <th>Output2</th>\n",
       "    </tr>\n",
       "  </thead>\n",
       "  <tbody>\n",
       "    <tr>\n",
       "      <th>0</th>\n",
       "      <td>5/22/2018</td>\n",
       "      <td>6:20:12</td>\n",
       "      <td>6:23:00</td>\n",
       "      <td>-0.575665</td>\n",
       "      <td>1.999267398</td>\n",
       "      <td>-0.375573</td>\n",
       "      <td>500</td>\n",
       "      <td>3</td>\n",
       "    </tr>\n",
       "    <tr>\n",
       "      <th>1</th>\n",
       "      <td>5/22/2018</td>\n",
       "      <td>6:23:12</td>\n",
       "      <td>6:26:00</td>\n",
       "      <td>-0.259506</td>\n",
       "      <td>1.523251646</td>\n",
       "      <td>0.186488</td>\n",
       "      <td>500</td>\n",
       "      <td>3</td>\n",
       "    </tr>\n",
       "    <tr>\n",
       "      <th>2</th>\n",
       "      <td>5/22/2018</td>\n",
       "      <td>6:26:12</td>\n",
       "      <td>6:29:00</td>\n",
       "      <td>0.477280</td>\n",
       "      <td>0.89225402</td>\n",
       "      <td>0.614144</td>\n",
       "      <td>500</td>\n",
       "      <td>3</td>\n",
       "    </tr>\n",
       "    <tr>\n",
       "      <th>3</th>\n",
       "      <td>5/22/2018</td>\n",
       "      <td>6:29:12</td>\n",
       "      <td>6:32:00</td>\n",
       "      <td>-0.174281</td>\n",
       "      <td>1.169007365</td>\n",
       "      <td>0.406426</td>\n",
       "      <td>500</td>\n",
       "      <td>3</td>\n",
       "    </tr>\n",
       "    <tr>\n",
       "      <th>4</th>\n",
       "      <td>5/22/2018</td>\n",
       "      <td>6:32:12</td>\n",
       "      <td>6:35:00</td>\n",
       "      <td>0.331572</td>\n",
       "      <td>1.157937231</td>\n",
       "      <td>0.736331</td>\n",
       "      <td>500</td>\n",
       "      <td>3</td>\n",
       "    </tr>\n",
       "  </tbody>\n",
       "</table>\n",
       "</div>"
      ],
      "text/plain": [
       "        Date     From       To        F1           F2        F3  Output1  \\\n",
       "0  5/22/2018  6:20:12  6:23:00 -0.575665  1.999267398 -0.375573      500   \n",
       "1  5/22/2018  6:23:12  6:26:00 -0.259506  1.523251646  0.186488      500   \n",
       "2  5/22/2018  6:26:12  6:29:00  0.477280   0.89225402  0.614144      500   \n",
       "3  5/22/2018  6:29:12  6:32:00 -0.174281  1.169007365  0.406426      500   \n",
       "4  5/22/2018  6:32:12  6:35:00  0.331572  1.157937231  0.736331      500   \n",
       "\n",
       "   Output2  \n",
       "0        3  \n",
       "1        3  \n",
       "2        3  \n",
       "3        3  \n",
       "4        3  "
      ]
     },
     "execution_count": 9,
     "metadata": {},
     "output_type": "execute_result"
    }
   ],
   "source": [
    "#reading the dataset\n",
    "df = pd.read_csv(\"Assignment_std.csv\",index_col=None, na_values=['NA'])\n",
    "df.head()"
   ]
  },
  {
   "cell_type": "code",
   "execution_count": 10,
   "metadata": {},
   "outputs": [
    {
     "data": {
      "text/plain": [
       "Index(['Date', 'From', 'To', 'F1', 'F2', 'F3', 'Output1', 'Output2'], dtype='object')"
      ]
     },
     "execution_count": 10,
     "metadata": {},
     "output_type": "execute_result"
    }
   ],
   "source": [
    "#Infomation about our data ~ Feature 2 is an Object/Categorical column \n",
    "df.columns"
   ]
  },
  {
   "cell_type": "code",
   "execution_count": 7,
   "metadata": {},
   "outputs": [
    {
     "data": {
      "text/plain": [
       "Date       False\n",
       "From       False\n",
       "To         False\n",
       "F1         False\n",
       "F2         False\n",
       "F3         False\n",
       "Output1    False\n",
       "Output2    False\n",
       "dtype: bool"
      ]
     },
     "execution_count": 7,
     "metadata": {},
     "output_type": "execute_result"
    }
   ],
   "source": [
    "# Checking if there is any missing value in the columns as a whole ~ there isnt any Missing Value \n",
    "df.isnull().any() "
   ]
  },
  {
   "cell_type": "code",
   "execution_count": 11,
   "metadata": {},
   "outputs": [],
   "source": [
    "#converting F2 categorical variable to floats variables. \n",
    "cols = ['Output1', 'Output2']\n",
    "for col in cols:\n",
    "    df[col] = df[col].astype(dtype=np.int64)\n",
    "df[\"F2\"] = pd.to_numeric(df.F2, errors='coerce')\n",
    "#df[\"Date\"] = pd.to_numeric(df.Date, errors='coerce')"
   ]
  },
  {
   "cell_type": "code",
   "execution_count": 12,
   "metadata": {},
   "outputs": [
    {
     "name": "stdout",
     "output_type": "stream",
     "text": [
      "<class 'pandas.core.frame.DataFrame'>\n",
      "RangeIndex: 709 entries, 0 to 708\n",
      "Data columns (total 8 columns):\n",
      "Date       709 non-null object\n",
      "From       709 non-null object\n",
      "To         709 non-null object\n",
      "F1         709 non-null float64\n",
      "F2         707 non-null float64\n",
      "F3         709 non-null float64\n",
      "Output1    709 non-null int64\n",
      "Output2    709 non-null int64\n",
      "dtypes: float64(3), int64(2), object(3)\n",
      "memory usage: 44.4+ KB\n"
     ]
    }
   ],
   "source": [
    "#Ascerting Conversion of our columns \n",
    "df.info()"
   ]
  },
  {
   "cell_type": "code",
   "execution_count": 15,
   "metadata": {},
   "outputs": [],
   "source": [
    "#Cleaning dataset of NaN values \n",
    "import pandas as pd\n",
    "def clean_dataset(df):\n",
    "    assert isinstance(df, pd.DataFrame), \"df needs to be a pd.DataFrame\"\n",
    "    df.dropna(inplace=True)\n",
    "    indices_to_keep = ~df.isin([np.nan, np.inf, -np.inf]).any(1)\n",
    "    return df[indices_to_keep].astype(np.float64)"
   ]
  },
  {
   "cell_type": "code",
   "execution_count": 16,
   "metadata": {},
   "outputs": [
    {
     "data": {
      "text/plain": [
       "Date\n",
       "5/22/2018    361.361257\n",
       "5/23/2018    255.266667\n",
       "5/24/2018    404.030418\n",
       "5/25/2018    469.333333\n",
       "Name: Output1, dtype: float64"
      ]
     },
     "execution_count": 16,
     "metadata": {},
     "output_type": "execute_result"
    }
   ],
   "source": [
    "#using group by to calculate average Output1 in the 4 days\n",
    "grouped = df.groupby(['Date'])['Output1'].mean()\n",
    "grouped"
   ]
  },
  {
   "cell_type": "code",
   "execution_count": 17,
   "metadata": {},
   "outputs": [
    {
     "data": {
      "text/plain": [
       "Date\n",
       "5/22/2018    4.439791\n",
       "5/23/2018    6.253333\n",
       "5/24/2018    3.851711\n",
       "5/25/2018    2.847619\n",
       "Name: Output2, dtype: float64"
      ]
     },
     "execution_count": 17,
     "metadata": {},
     "output_type": "execute_result"
    }
   ],
   "source": [
    "#using group by to calculate average time/Output in the 4 days\n",
    "gro = df.groupby(['Date'])['Output2'].mean()\n",
    "gro"
   ]
  },
  {
   "cell_type": "code",
   "execution_count": 18,
   "metadata": {},
   "outputs": [],
   "source": [
    "#fitting the model\n",
    "import statsmodels.formula.api as smf\n",
    "X = df[['F1','F2','F3']]\n",
    "y = df[['Output1']]"
   ]
  },
  {
   "cell_type": "code",
   "execution_count": 19,
   "metadata": {},
   "outputs": [],
   "source": [
    "#importing the test_train_split module from sklearn\n",
    "from sklearn.model_selection import train_test_split"
   ]
  },
  {
   "cell_type": "code",
   "execution_count": null,
   "metadata": {},
   "outputs": [],
   "source": [
    "#Splitting the Dataset\n",
    "X_train, X_test, y_train, y_test = train_test_split(X,y,test_size=0.3,random_state=101)"
   ]
  },
  {
   "cell_type": "code",
   "execution_count": null,
   "metadata": {},
   "outputs": [],
   "source": [
    "X_test.fillna(X_test.mean())"
   ]
  },
  {
   "cell_type": "code",
   "execution_count": null,
   "metadata": {},
   "outputs": [],
   "source": [
    "y_test.fillna(y_test.mean())"
   ]
  },
  {
   "cell_type": "code",
   "execution_count": 72,
   "metadata": {},
   "outputs": [
    {
     "data": {
      "text/plain": [
       "False"
      ]
     },
     "execution_count": 72,
     "metadata": {},
     "output_type": "execute_result"
    }
   ],
   "source": [
    "X_test._is_view"
   ]
  },
  {
   "cell_type": "code",
   "execution_count": 69,
   "metadata": {},
   "outputs": [],
   "source": [
    "#Importing regression\n",
    "from sklearn.linear_model import LinearRegression"
   ]
  },
  {
   "cell_type": "code",
   "execution_count": 70,
   "metadata": {},
   "outputs": [],
   "source": [
    "lm = LinearRegression()"
   ]
  },
  {
   "cell_type": "code",
   "execution_count": null,
   "metadata": {},
   "outputs": [],
   "source": [
    "lm.fit(X_train, y_train)"
   ]
  },
  {
   "cell_type": "code",
   "execution_count": null,
   "metadata": {},
   "outputs": [],
   "source": [
    "sns.lmplot(x='F2',y='Output1',data=df)"
   ]
  },
  {
   "cell_type": "code",
   "execution_count": 20,
   "metadata": {},
   "outputs": [
    {
     "data": {
      "text/html": [
       "<table class=\"simpletable\">\n",
       "<caption>OLS Regression Results</caption>\n",
       "<tr>\n",
       "  <th>Dep. Variable:</th>         <td>Output1</td>     <th>  R-squared:         </th> <td>   0.397</td>\n",
       "</tr>\n",
       "<tr>\n",
       "  <th>Model:</th>                   <td>OLS</td>       <th>  Adj. R-squared:    </th> <td>   0.395</td>\n",
       "</tr>\n",
       "<tr>\n",
       "  <th>Method:</th>             <td>Least Squares</td>  <th>  F-statistic:       </th> <td>   154.3</td>\n",
       "</tr>\n",
       "<tr>\n",
       "  <th>Date:</th>             <td>Thu, 18 Jul 2019</td> <th>  Prob (F-statistic):</th> <td>7.63e-77</td>\n",
       "</tr>\n",
       "<tr>\n",
       "  <th>Time:</th>                 <td>08:47:27</td>     <th>  Log-Likelihood:    </th> <td> -4178.2</td>\n",
       "</tr>\n",
       "<tr>\n",
       "  <th>No. Observations:</th>      <td>   707</td>      <th>  AIC:               </th> <td>   8364.</td>\n",
       "</tr>\n",
       "<tr>\n",
       "  <th>Df Residuals:</th>          <td>   703</td>      <th>  BIC:               </th> <td>   8383.</td>\n",
       "</tr>\n",
       "<tr>\n",
       "  <th>Df Model:</th>              <td>     3</td>      <th>                     </th>     <td> </td>   \n",
       "</tr>\n",
       "<tr>\n",
       "  <th>Covariance Type:</th>      <td>nonrobust</td>    <th>                     </th>     <td> </td>   \n",
       "</tr>\n",
       "</table>\n",
       "<table class=\"simpletable\">\n",
       "<tr>\n",
       "      <td></td>         <th>coef</th>     <th>std err</th>      <th>t</th>      <th>P>|t|</th>  <th>[0.025</th>    <th>0.975]</th>  \n",
       "</tr>\n",
       "<tr>\n",
       "  <th>Intercept</th> <td>  370.0516</td> <td>    3.364</td> <td>  110.004</td> <td> 0.000</td> <td>  363.447</td> <td>  376.656</td>\n",
       "</tr>\n",
       "<tr>\n",
       "  <th>F1</th>        <td>  -22.3958</td> <td>    4.814</td> <td>   -4.652</td> <td> 0.000</td> <td>  -31.847</td> <td>  -12.945</td>\n",
       "</tr>\n",
       "<tr>\n",
       "  <th>F2</th>        <td>   36.5916</td> <td>    3.833</td> <td>    9.547</td> <td> 0.000</td> <td>   29.067</td> <td>   44.117</td>\n",
       "</tr>\n",
       "<tr>\n",
       "  <th>F3</th>        <td>   60.6851</td> <td>    5.271</td> <td>   11.512</td> <td> 0.000</td> <td>   50.335</td> <td>   71.035</td>\n",
       "</tr>\n",
       "</table>\n",
       "<table class=\"simpletable\">\n",
       "<tr>\n",
       "  <th>Omnibus:</th>       <td>25.874</td> <th>  Durbin-Watson:     </th> <td>   0.530</td>\n",
       "</tr>\n",
       "<tr>\n",
       "  <th>Prob(Omnibus):</th> <td> 0.000</td> <th>  Jarque-Bera (JB):  </th> <td>  12.543</td>\n",
       "</tr>\n",
       "<tr>\n",
       "  <th>Skew:</th>          <td>-0.085</td> <th>  Prob(JB):          </th> <td> 0.00189</td>\n",
       "</tr>\n",
       "<tr>\n",
       "  <th>Kurtosis:</th>      <td> 2.370</td> <th>  Cond. No.          </th> <td>    2.80</td>\n",
       "</tr>\n",
       "</table><br/><br/>Warnings:<br/>[1] Standard Errors assume that the covariance matrix of the errors is correctly specified."
      ],
      "text/plain": [
       "<class 'statsmodels.iolib.summary.Summary'>\n",
       "\"\"\"\n",
       "                            OLS Regression Results                            \n",
       "==============================================================================\n",
       "Dep. Variable:                Output1   R-squared:                       0.397\n",
       "Model:                            OLS   Adj. R-squared:                  0.395\n",
       "Method:                 Least Squares   F-statistic:                     154.3\n",
       "Date:                Thu, 18 Jul 2019   Prob (F-statistic):           7.63e-77\n",
       "Time:                        08:47:27   Log-Likelihood:                -4178.2\n",
       "No. Observations:                 707   AIC:                             8364.\n",
       "Df Residuals:                     703   BIC:                             8383.\n",
       "Df Model:                           3                                         \n",
       "Covariance Type:            nonrobust                                         \n",
       "==============================================================================\n",
       "                 coef    std err          t      P>|t|      [0.025      0.975]\n",
       "------------------------------------------------------------------------------\n",
       "Intercept    370.0516      3.364    110.004      0.000     363.447     376.656\n",
       "F1           -22.3958      4.814     -4.652      0.000     -31.847     -12.945\n",
       "F2            36.5916      3.833      9.547      0.000      29.067      44.117\n",
       "F3            60.6851      5.271     11.512      0.000      50.335      71.035\n",
       "==============================================================================\n",
       "Omnibus:                       25.874   Durbin-Watson:                   0.530\n",
       "Prob(Omnibus):                  0.000   Jarque-Bera (JB):               12.543\n",
       "Skew:                          -0.085   Prob(JB):                      0.00189\n",
       "Kurtosis:                       2.370   Cond. No.                         2.80\n",
       "==============================================================================\n",
       "\n",
       "Warnings:\n",
       "[1] Standard Errors assume that the covariance matrix of the errors is correctly specified.\n",
       "\"\"\""
      ]
     },
     "execution_count": 20,
     "metadata": {},
     "output_type": "execute_result"
    }
   ],
   "source": [
    "#Fitting an OLS model with F1 F2 F3 as the intercepts \n",
    "X = sm.add_constant(X)\n",
    "est = smf.ols(formula = 'Output1 ~ F1 + F2 + F3', data = df).fit()\n",
    "est.summary()"
   ]
  },
  {
   "cell_type": "code",
   "execution_count": null,
   "metadata": {},
   "outputs": [],
   "source": [
    "#EDA with pandas profiling \n",
    "pandas_profiling.ProfileReport(df)"
   ]
  },
  {
   "cell_type": "code",
   "execution_count": null,
   "metadata": {},
   "outputs": [],
   "source": [
    "#exporting the profiling report into html report\n",
    "profile = pandas_profiling.ProfileReport(df)\n",
    "profile.to_file(outputfile=\"MFS_PROFILING REPORT.html\")"
   ]
  },
  {
   "cell_type": "code",
   "execution_count": null,
   "metadata": {},
   "outputs": [],
   "source": [
    "#saving as csv\n",
    "df.to_csv('mfs.csv')"
   ]
  },
  {
   "cell_type": "code",
   "execution_count": null,
   "metadata": {},
   "outputs": [],
   "source": []
  },
  {
   "cell_type": "code",
   "execution_count": null,
   "metadata": {},
   "outputs": [],
   "source": []
  }
 ],
 "metadata": {
  "kernelspec": {
   "display_name": "Python 3",
   "language": "python",
   "name": "python3"
  },
  "language_info": {
   "codemirror_mode": {
    "name": "ipython",
    "version": 3
   },
   "file_extension": ".py",
   "mimetype": "text/x-python",
   "name": "python",
   "nbconvert_exporter": "python",
   "pygments_lexer": "ipython3",
   "version": "3.7.1"
  }
 },
 "nbformat": 4,
 "nbformat_minor": 2
}
